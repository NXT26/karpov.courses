{
 "cells": [
  {
   "cell_type": "markdown",
   "id": "2dd13ebe",
   "metadata": {},
   "source": [
    "💀 Сложное задание! 💀\n",
    "\n",
    "Соберите все данные из папки data в один датафрэйм, имеющий следующие столбцы: колонки из самих файлов (product_id, quantity), имя пользователя (name), и дату этих покупок (date), соответствует названию папки, где лежит папка с пользователем).\n",
    "\n",
    "Пример итоговой таблицы:\n",
    "\n",
    "`    product_id  quantity    name             date\n",
    "0       56          2         Anatoly_Karpov   2020-12-30\n",
    "1       7           2         Anatoly_Karpov   2020-12-30\n",
    "2       9           3         Anatoly_Karpov   2020-12-30`\n",
    "\n",
    "Для объединения датафреймов, читаемых из файлов, можно использовать метод pd.concat(). Например:\n",
    "\n",
    "1. Имеются следующие данные:\n",
    "`> df_1\n",
    "    product_id  quantity    name               date\n",
    "0       56          2         Anatoly_Karpov     2020-12-30\n",
    "1       7           2         Anatoly_Karpov     2020-12-30\n",
    "2       9           3         Anatoly_Karpov     2020-12-30`\n",
    "\n",
    "`> df_2\n",
    "    product_id  quantity    name               date\n",
    "0       4           2         Кatya_Skriptsova   2020-12-30\n",
    "1       71          1         Кatya_Skriptsova   2020-12-31`\n",
    "\n",
    "2. Соединяем, передав pd.concat на вход список датафреймов, которые нужно объединить. Обратите внимание: индексы повторяются, поэтому после соединения всех данных нужно их сбросить.\n",
    "\n",
    "`> df = pd.concat([df_1, df_2])`\n",
    "\n",
    "`> df`\n",
    "\n",
    "`    product_id  quantity    name                date\n",
    "0       56          2         Anatoly_Karpov      2020-12-30\n",
    "1       7           2         Anatoly_Karpov      2020-12-30\n",
    "2       9           3         Anatoly_Karpov      2020-12-30\n",
    "0       4           2         Кatya_Skriptsova    2020-12-30\n",
    "1       71          1         Кatya_Skriptsova    2020-12-31`\n",
    "\n",
    "В качестве ответа укажите сумму по колонке quantity."
   ]
  },
  {
   "cell_type": "code",
   "execution_count": 4,
   "id": "7c26af90",
   "metadata": {},
   "outputs": [],
   "source": [
    "import pandas as pd\n",
    "import os\n",
    "df = pd.read_csv(\"/Users/aleksandrshchapov/PycharmProjects/karpov.courses/lesson4/data/2020-12-03/Alexey_Smirnov/data.csv\")"
   ]
  },
  {
   "cell_type": "code",
   "execution_count": 3,
   "id": "0a2b9047",
   "metadata": {},
   "outputs": [
    {
     "data": {
      "text/html": [
       "<div>\n",
       "<style scoped>\n",
       "    .dataframe tbody tr th:only-of-type {\n",
       "        vertical-align: middle;\n",
       "    }\n",
       "\n",
       "    .dataframe tbody tr th {\n",
       "        vertical-align: top;\n",
       "    }\n",
       "\n",
       "    .dataframe thead th {\n",
       "        text-align: right;\n",
       "    }\n",
       "</style>\n",
       "<table border=\"1\" class=\"dataframe\">\n",
       "  <thead>\n",
       "    <tr style=\"text-align: right;\">\n",
       "      <th></th>\n",
       "      <th>Unnamed: 0</th>\n",
       "      <th>product_id</th>\n",
       "      <th>quantity</th>\n",
       "    </tr>\n",
       "  </thead>\n",
       "  <tbody>\n",
       "    <tr>\n",
       "      <th>0</th>\n",
       "      <td>0</td>\n",
       "      <td>47</td>\n",
       "      <td>1</td>\n",
       "    </tr>\n",
       "    <tr>\n",
       "      <th>1</th>\n",
       "      <td>1</td>\n",
       "      <td>57</td>\n",
       "      <td>1</td>\n",
       "    </tr>\n",
       "    <tr>\n",
       "      <th>2</th>\n",
       "      <td>2</td>\n",
       "      <td>14</td>\n",
       "      <td>2</td>\n",
       "    </tr>\n",
       "    <tr>\n",
       "      <th>3</th>\n",
       "      <td>3</td>\n",
       "      <td>52</td>\n",
       "      <td>1</td>\n",
       "    </tr>\n",
       "    <tr>\n",
       "      <th>4</th>\n",
       "      <td>4</td>\n",
       "      <td>1</td>\n",
       "      <td>4</td>\n",
       "    </tr>\n",
       "    <tr>\n",
       "      <th>5</th>\n",
       "      <td>5</td>\n",
       "      <td>94</td>\n",
       "      <td>4</td>\n",
       "    </tr>\n",
       "  </tbody>\n",
       "</table>\n",
       "</div>"
      ],
      "text/plain": [
       "   Unnamed: 0  product_id  quantity\n",
       "0           0          47         1\n",
       "1           1          57         1\n",
       "2           2          14         2\n",
       "3           3          52         1\n",
       "4           4           1         4\n",
       "5           5          94         4"
      ]
     },
     "execution_count": 3,
     "metadata": {},
     "output_type": "execute_result"
    }
   ],
   "source": [
    "df"
   ]
  },
  {
   "cell_type": "code",
   "execution_count": 8,
   "id": "fa01b71e",
   "metadata": {
    "scrolled": true
   },
   "outputs": [
    {
     "data": {
      "text/plain": [
       "['2020-12-06',\n",
       " '2020-12-08',\n",
       " '2020-12-09',\n",
       " '2020-12-07',\n",
       " '2020-12-05',\n",
       " '2020-12-03',\n",
       " '2020-12-04',\n",
       " '.ipynb_checkpoints']"
      ]
     },
     "execution_count": 8,
     "metadata": {},
     "output_type": "execute_result"
    }
   ],
   "source": [
    "os.listdir(\"data\")"
   ]
  },
  {
   "cell_type": "code",
   "execution_count": 11,
   "id": "1f6511c0",
   "metadata": {},
   "outputs": [
    {
     "name": "stdout",
     "output_type": "stream",
     "text": [
      "('data/.ipynb_checkpoints', [], [])\n",
      "('data/.ipynb_checkpoints', [], [])\n",
      "('data/.ipynb_checkpoints', [], [])\n",
      "('data/.ipynb_checkpoints', [], [])\n",
      "('data/.ipynb_checkpoints', [], [])\n",
      "('data/.ipynb_checkpoints', [], [])\n",
      "('data/.ipynb_checkpoints', [], [])\n",
      "('data/.ipynb_checkpoints', [], [])\n",
      "('data/.ipynb_checkpoints', [], [])\n",
      "('data/.ipynb_checkpoints', [], [])\n",
      "('data/.ipynb_checkpoints', [], [])\n",
      "('data/.ipynb_checkpoints', [], [])\n",
      "('data/.ipynb_checkpoints', [], [])\n",
      "('data/.ipynb_checkpoints', [], [])\n",
      "('data/.ipynb_checkpoints', [], [])\n",
      "('data/.ipynb_checkpoints', [], [])\n",
      "('data/.ipynb_checkpoints', [], [])\n",
      "('data/.ipynb_checkpoints', [], [])\n",
      "('data/.ipynb_checkpoints', [], [])\n",
      "('data/.ipynb_checkpoints', [], [])\n",
      "('data/.ipynb_checkpoints', [], [])\n",
      "('data/.ipynb_checkpoints', [], [])\n",
      "('data/.ipynb_checkpoints', [], [])\n",
      "('data/.ipynb_checkpoints', [], [])\n",
      "('data/.ipynb_checkpoints', [], [])\n",
      "('data/.ipynb_checkpoints', [], [])\n",
      "('data/.ipynb_checkpoints', [], [])\n",
      "('data/.ipynb_checkpoints', [], [])\n",
      "('data/.ipynb_checkpoints', [], [])\n",
      "('data/.ipynb_checkpoints', [], [])\n",
      "('data/.ipynb_checkpoints', [], [])\n",
      "('data/.ipynb_checkpoints', [], [])\n",
      "('data/.ipynb_checkpoints', [], [])\n",
      "('data/.ipynb_checkpoints', [], [])\n",
      "('data/.ipynb_checkpoints', [], [])\n",
      "('data/.ipynb_checkpoints', [], [])\n",
      "('data/.ipynb_checkpoints', [], [])\n",
      "('data/.ipynb_checkpoints', [], [])\n",
      "('data/.ipynb_checkpoints', [], [])\n",
      "('data/.ipynb_checkpoints', [], [])\n",
      "('data/.ipynb_checkpoints', [], [])\n",
      "('data/.ipynb_checkpoints', [], [])\n",
      "('data/.ipynb_checkpoints', [], [])\n",
      "('data/.ipynb_checkpoints', [], [])\n"
     ]
    }
   ],
   "source": [
    "dataframe = []\n",
    "for addres, dirs, files in os.walk(\"data\"):\n",
    "    for name in files:\n",
    "        print(names)"
   ]
  },
  {
   "cell_type": "code",
   "execution_count": null,
   "id": "340d082b",
   "metadata": {},
   "outputs": [],
   "source": []
  },
  {
   "cell_type": "code",
   "execution_count": null,
   "id": "4951c23d",
   "metadata": {},
   "outputs": [],
   "source": []
  },
  {
   "cell_type": "code",
   "execution_count": null,
   "id": "108c3621",
   "metadata": {},
   "outputs": [],
   "source": []
  }
 ],
 "metadata": {
  "kernelspec": {
   "display_name": "Python 3 (ipykernel)",
   "language": "python",
   "name": "python3"
  },
  "language_info": {
   "codemirror_mode": {
    "name": "ipython",
    "version": 3
   },
   "file_extension": ".py",
   "mimetype": "text/x-python",
   "name": "python",
   "nbconvert_exporter": "python",
   "pygments_lexer": "ipython3",
   "version": "3.10.0rc1"
  }
 },
 "nbformat": 4,
 "nbformat_minor": 5
}
